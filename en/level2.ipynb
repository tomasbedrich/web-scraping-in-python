{
 "cells": [
  {
   "cell_type": "code",
   "execution_count": null,
   "metadata": {
    "collapsed": true
   },
   "outputs": [],
   "source": [
    "import requests\n",
    "from urllib.parse import urljoin\n",
    "from bs4 import BeautifulSoup\n",
    "from collections import defaultdict\n",
    "\n",
    "BASE_URL = \"http://m.imdb.com\""
   ]
  },
  {
   "cell_type": "code",
   "execution_count": null,
   "metadata": {
    "collapsed": false
   },
   "outputs": [],
   "source": [
    "def get_movie_links():\n",
    "    \"\"\"Get list of links to top movies on IMDB.\"\"\"\n",
    "    res = requests.get(urljoin(BASE_URL, \"chart/top\"))\n",
    "    soup = BeautifulSoup(res.text, \"html.parser\")\n",
    "    media = soup.find_all(class_=\"media\")\n",
    "    return [i.find(\"a\")[\"href\"] for i in media]"
   ]
  },
  {
   "cell_type": "code",
   "execution_count": null,
   "metadata": {
    "collapsed": true
   },
   "outputs": [],
   "source": [
    "def get_actors(movie_url):\n",
    "    \"\"\"Get list of actors starring in a movie by its URL.\"\"\"\n",
    "    res = requests.get(urljoin(BASE_URL, movie_url))\n",
    "    soup = BeautifulSoup(res.text, \"html.parser\")\n",
    "    actors = soup.find(id=\"cast-and-crew\").find_all(\"li\")\n",
    "    return [actor.find(\"strong\").text for actor in actors]"
   ]
  },
  {
   "cell_type": "code",
   "execution_count": null,
   "metadata": {
    "collapsed": false
   },
   "outputs": [],
   "source": [
    "actors = defaultdict(lambda: 0)\n",
    "\n",
    "# count actors appearance in top 20 movies\n",
    "for i, movie_link in enumerate(get_movie_links()):\n",
    "    for name in get_actors(movie_link):\n",
    "        actors[name] += 1\n",
    "    print(\"processed movie #{}\".format(i + 1))\n",
    "    if i >= 19:\n",
    "        break\n",
    "print(\"end\")"
   ]
  },
  {
   "cell_type": "code",
   "execution_count": null,
   "metadata": {
    "collapsed": false
   },
   "outputs": [],
   "source": [
    "# print actors starring in 3 or more movies\n",
    "for actor, count in actors.items():\n",
    "    if count >= 3:\n",
    "        print(actor, count)"
   ]
  }
 ],
 "metadata": {
  "kernelspec": {
   "display_name": "Python 3",
   "language": "python",
   "name": "python3"
  },
  "language_info": {
   "codemirror_mode": {
    "name": "ipython",
    "version": 3
   },
   "file_extension": ".py",
   "mimetype": "text/x-python",
   "name": "python",
   "nbconvert_exporter": "python",
   "pygments_lexer": "ipython3",
   "version": "3.5.0"
  }
 },
 "nbformat": 4,
 "nbformat_minor": 0
}
