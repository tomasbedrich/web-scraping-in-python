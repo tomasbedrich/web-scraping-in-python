{
 "cells": [
  {
   "cell_type": "code",
   "execution_count": null,
   "metadata": {
    "collapsed": true
   },
   "outputs": [],
   "source": [
    "import requests\n",
    "from urllib.parse import urljoin\n",
    "from bs4 import BeautifulSoup\n",
    "\n",
    "BASE_URL = \"http://apod.nasa.gov/apod/\""
   ]
  },
  {
   "cell_type": "code",
   "execution_count": null,
   "metadata": {
    "collapsed": false
   },
   "outputs": [],
   "source": [
    "def get_archive():\n",
    "    \"\"\"Get all archive images as a dict of links and titles.\"\"\"\n",
    "    res = requests.get(urljoin(BASE_URL, \"archivepix.html\"))\n",
    "    soup = BeautifulSoup(res.text, \"html.parser\")\n",
    "    archive_links = soup.find(\"b\").find_all(\"a\")\n",
    "    return {link[\"href\"]: link.text for link in archive_links}"
   ]
  },
  {
   "cell_type": "code",
   "execution_count": null,
   "metadata": {
    "collapsed": false
   },
   "outputs": [],
   "source": [
    "def get_img_src(url):\n",
    "    \"\"\"Get single image SRC from its page.\"\"\"\n",
    "    res = requests.get(urljoin(BASE_URL, url))\n",
    "    soup = BeautifulSoup(res.text, \"html.parser\")\n",
    "    img = soup.find(\"img\")\n",
    "    if not img:\n",
    "        raise ValueError(\"No <img> found on page\")\n",
    "    return img[\"src\"]"
   ]
  },
  {
   "cell_type": "code",
   "execution_count": null,
   "metadata": {
    "collapsed": true
   },
   "outputs": [],
   "source": [
    "def download_image(img_src, to_filename):\n",
    "    \"\"\"Download single image by its SRC and save it to filename.\"\"\"\n",
    "    res = requests.get(urljoin(BASE_URL, img_src), stream=True)\n",
    "    with open(to_filename, \"wb\") as f:\n",
    "        for chunk in res:\n",
    "            f.write(chunk)"
   ]
  },
  {
   "cell_type": "code",
   "execution_count": null,
   "metadata": {
    "collapsed": false
   },
   "outputs": [],
   "source": [
    "archive = get_archive()\n",
    "for i, (url, title) in enumerate(archive.items()):\n",
    "    try:\n",
    "        src = get_img_src(url)  # get img src\n",
    "        filename = \"img/\" + src.split(\"/\")[-1]  # assemble target filename\n",
    "        download_image(src, filename)  # download img\n",
    "        print(\"downloaded\", title, \"to\", filename)\n",
    "    except ValueError:\n",
    "        print(\"error, skipping \", title)\n",
    "    if i >= 9:  # not to download whole NASA\n",
    "        break\n",
    "print(\"end\")"
   ]
  },
  {
   "cell_type": "code",
   "execution_count": null,
   "metadata": {
    "collapsed": true
   },
   "outputs": [],
   "source": []
  }
 ],
 "metadata": {
  "kernelspec": {
   "display_name": "Python 3",
   "language": "python",
   "name": "python3"
  },
  "language_info": {
   "codemirror_mode": {
    "name": "ipython",
    "version": 3
   },
   "file_extension": ".py",
   "mimetype": "text/x-python",
   "name": "python",
   "nbconvert_exporter": "python",
   "pygments_lexer": "ipython3",
   "version": "3.5.0"
  }
 },
 "nbformat": 4,
 "nbformat_minor": 0
}
