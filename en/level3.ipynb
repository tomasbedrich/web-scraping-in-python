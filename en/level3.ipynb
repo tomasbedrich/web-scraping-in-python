{
 "cells": [
  {
   "cell_type": "code",
   "execution_count": null,
   "metadata": {
    "collapsed": true
   },
   "outputs": [],
   "source": [
    "import requests\n",
    "from urllib.parse import urljoin\n",
    "import sys\n",
    "\n",
    "BASE_URL = \"https://coolors.co/\"\n",
    "\n",
    "_username, _password = \"python_scraper\", \"secure_password\""
   ]
  },
  {
   "cell_type": "code",
   "execution_count": null,
   "metadata": {
    "collapsed": false
   },
   "outputs": [],
   "source": [
    "def add_user_palette(name, c1, c2, c3, c4, c5):\n",
    "    \"\"\"Add user palette on Coolors.co created from colors c1..c5.\"\"\"\n",
    "    sess = requests.Session()  # session stores PHPSESSID between requests\n",
    "    \n",
    "    # make login request\n",
    "    login_data = {\n",
    "        \"e\": _username,\n",
    "        \"p\": _password\n",
    "    }\n",
    "    res = sess.post(urljoin(BASE_URL, \"ajax/login\"), data=login_data)\n",
    "    assert res.json()[\"result\"] == 0, \"login failed\"\n",
    "    \n",
    "    # add palette\n",
    "    palette_data = {\n",
    "        \"c1\": \"#\" + c1,\n",
    "        \"c2\": \"#\" + c2,\n",
    "        \"c3\": \"#\" + c3,\n",
    "        \"c4\": \"#\" + c4,\n",
    "        \"c5\": \"#\" + c5,\n",
    "        \"name\": name,\n",
    "        \"tags\": \"\",\n",
    "        \"key\": \"Coolors_Simple_KEY\",\n",
    "    }\n",
    "    sess.post(urljoin(BASE_URL, \"ajax/add_user_palette\"), data=palette_data)"
   ]
  },
  {
   "cell_type": "code",
   "execution_count": null,
   "metadata": {
    "collapsed": false
   },
   "outputs": [],
   "source": [
    "add_user_palette(*\"foo ff00ff ffff00 00ff00 ff00ff ffff00\".split())\n",
    "print(\"done\")"
   ]
  },
  {
   "cell_type": "code",
   "execution_count": null,
   "metadata": {
    "collapsed": true
   },
   "outputs": [],
   "source": []
  }
 ],
 "metadata": {
  "kernelspec": {
   "display_name": "Python 3",
   "language": "python",
   "name": "python3"
  },
  "language_info": {
   "codemirror_mode": {
    "name": "ipython",
    "version": 3
   },
   "file_extension": ".py",
   "mimetype": "text/x-python",
   "name": "python",
   "nbconvert_exporter": "python",
   "pygments_lexer": "ipython3",
   "version": "3.5.0"
  }
 },
 "nbformat": 4,
 "nbformat_minor": 0
}
